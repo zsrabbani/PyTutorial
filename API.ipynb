{
  "nbformat": 4,
  "nbformat_minor": 0,
  "metadata": {
    "colab": {
      "provenance": []
    },
    "kernelspec": {
      "name": "python3",
      "display_name": "Python 3"
    },
    "language_info": {
      "name": "python"
    }
  },
  "cells": [
    {
      "cell_type": "markdown",
      "source": [
        "#API\n"
      ],
      "metadata": {
        "id": "qELAL6d0l4da"
      }
    },
    {
      "cell_type": "markdown",
      "source": [
        "Application Programming Interface\n"
      ],
      "metadata": {
        "id": "OqEN8EYcHjY6"
      }
    },
    {
      "cell_type": "markdown",
      "source": [
        "![Capture.JPG](data:image/jpeg;base64,/9j/4AAQSkZJRgABAQEAkACQAAD/4RDsRXhpZgAATU0AKgAAAAgABAE7AAIAAAALAAAISodpAAQAAAABAAAIVpydAAEAAAAWAAAQzuocAAcAAAgMAAAAPgAAAAAc6gAAAAgAAAAAAAAAAAAAAAAAAAAAAAAAAAAAAAAAAAAAAAAAAAAAAAAAAAAAAAAAAAAAAAAAAAAAAAAAAAAAAAAAAAAAAAAAAAAAAAAAAAAAAAAAAAAAAAAAAAAAAAAAAAAAAAAAAAAAAAAAAAAAAAAAAAAAAAAAAAAAAAAAAAAAAAAAAAAAAAAAAAAAAAAAAAAAAAAAAAAAAAAAAAAAAAAAAAAAAAAAAAAAAAAAAAAAAAAAAAAAAAAAAAAAAAAAAAAAAAAAAAAAAAAAAAAAAAAAAAAAAAAAAAAAAAAAAAAAAAAAAAAAAAAAAAAAAAAAAAAAAAAAAAAAAAAAAAAAAAAAAAAAAAAAAAAAAAAAAAAAAAAAAAAAAAAAAAAAAAAAAAAAAAAAAAAAAAAAAAAAAAAAAAAAAAAAAAAAAAAAAAAAAAAAAAAAAAAAAAAAAAAAAAAAAAAAAAAAAAAAAAAAAAAAAAAAAAAAAAAAAAAAAAAAAAAAAAAAAAAAAAAAAAAAAAAAAAAAAAAAAAAAAAAAAAAAAAAAAAAAAAAAAAAAAAAAAAAAAAAAAAAAAAAAAAAAAAAAAAAAAAAAAAAAAAAAAAAAAAAAAAAAAAAAAAAAAAAAAAAAAAAAAAAAAAAAAAAAAAAAAAAAAAAAAAAAAAAAAAAAAAAAAAAAAAAAAAAAAAAAAAAAAAAAAAAAAAAAAAAAAAAAAAAAAAAAAAAAAAAAAAAAAAAAAAAAAAAAAAAAAAAAAAAAAAAAAAAAAAAAAAAAAAAAAAAAAAAAAAAAAAAAAAAAAAAAAAAAAAAAAAAAAAAAAAAAAAAAAAAAAAAAAAAAAAAAAAAAAAAAAAAAAAAAAAAAAAAAAAAAAAAAAAAAAAAAAAAAAAAAAAAAAAAAAAAAAAAAAAAAAAAAAAAAAAAAAAAAAAAAAAAAAAAAAAAAAAAAAAAAAAAAAAAAAAAAAAAAAAAAAAAAAAAAAAAAAAAAAAAAAAAAAAAAAAAAAAAAAAAAAAAAAAAAAAAAAAAAAAAAAAAAAAAAAAAAAAAAAAAAAAAAAAAAAAAAAAAAAAAAAAAAAAAAAAAAAAAAAAAAAAAAAAAAAAAAAAAAAAAAAAAAAAAAAAAAAAAAAAAAAAAAAAAAAAAAAAAAAAAAAAAAAAAAAAAAAAAAAAAAAAAAAAAAAAAAAAAAAAAAAAAAAAAAAAAAAAAAAAAAAAAAAAAAAAAAAAAAAAAAAAAAAAAAAAAAAAAAAAAAAAAAAAAAAAAAAAAAAAAAAAAAAAAAAAAAAAAAAAAAAAAAAAAAAAAAAAAAAAAAAAAAAAAAAAAAAAAAAAAAAAAAAAAAAAAAAAAAAAAAAAAAAAAAAAAAAAAAAAAAAAAAAAAAAAAAAAAAAAAAAAAAAAAAAAAAAAAAAAAAAAAAAAAAAAAAAAAAAAAAAAAAAAAAAAAAAAAAAAAAAAAAAAAAAAAAAAAAAAAAAAAAAAAAAAAAAAAAAAAAAAAAAAAAAAAAAAAAAAAAAAAAAAAAAAAAAAAAAAAAAAAAAAAAAAAAAAAAAAAAAAAAAAAAAAAAAAAAAAAAAAAAAAAAAAAAAAAAAAAAAAAAAAAAAAAAAAAAAAAAAAAAAAAAAAAAAAAAAAAAAAAAAAAAAAAAAAAAAAAAAAAAAAAAAAAAAAAAAAAAAAAAAAAAAAAAAAAAAAAAAAAAAAAAAAAAAAAAAAAAAAAAAAAAAAAAAAAAAAAAAAAAAAAAAAAAAAAAAAAAAAAAAAAAAAAAAAAAAAAAAAAAAAAAAAAAAAAAAAAAAAAAAAAAAAAAAAAAAAAAAAAAAAAAAAAAAAAAAAAAAAAAAAAAAAAAAAAAAAAAAAAAAAAAAAAAAAAAAAAAAAAAAAAAAAAAAAAAAAAAAAAAAAAAAAAAAAAAAAAAAAAAAAAAAAAAAAAAAAAAAAAAAAAAAAAAAAAAAAAAAAAAAAAAAAAAAAAAAAAAAAAAAAAAAAAAAAAAAAAAAAAAAAAAAAAAAAAAAAAAAAAAAAAAAAAAAAAAAAAAAAAAAAAAAAAAAAAAAAAAAAAAAAAAAAAAAAAAAAAAAAAAAAAAAAAAAAAAAAAAAAAAAAAAAAAAAAAAAAAAAAAAAAAAAAAAAAAAAAAAAAAAAAAAAAAAAAAAAAAAAAAAAAAAAAAAAAAAAAAAAAAAAAAAAAAAAAAAAAAAAAAAAAAAAAAAAAAAAAAAAAAAAAAAAAAAAAAAAAAAAAAAAAAAAAAAAAAAAAAAAAAAAAAAAAAAAAAAAAAAAAAAAAAAAAAAAAAAAAAAAAAAAAAAAAAAAAAAAAAAAAAAAAAAAAAAAAAAAAAAAAAAAAAAAAAAAAAAAAAAAAAAAAAAAAAAAAAAAAAAAAAAAAAAAAAAAAAAAAAAAAAAAAAAAAAAAAAAAAAAAAAAAAAAAAAAAAAAAAAAAAAAAAAAAAAAAAAAAAAAAAAAAAAAAAAAAAAAAAAAAAAAAAAAAAAAAAAAAAAAAAAAAAAAAAAAAAAAAAAAAAAAAAAAAAAAAAAAAAAAAAAAAAAAAAAAAAAAAAAAAAAAAAAAAAAAAAAAAAAAAAAAAAAAAAAAAAAAAAAAAAAAAAAAAAAAAAAAAAAAAAAAAAAAAAAAAAAAAAAAAAAAAAAAAAAAAAAAAAAAAAAAAAAAAAAAAAAAAAAAAAAAAAAAAAAAAAAAAAAAAAAAAAAAAAAAAAAAAAAAAAAAAAAAAAAAAAAAAAAAAAAAAAAAAAAAAAAAAAAAAFdpbmRvd3MgMTEAAAAFkAMAAgAAABQAABCkkAQAAgAAABQAABC4kpEAAgAAAAM3MQAAkpIAAgAAAAM3MQAA6hwABwAACAwAAAiYAAAAABzqAAAACAAAAAAAAAAAAAAAAAAAAAAAAAAAAAAAAAAAAAAAAAAAAAAAAAAAAAAAAAAAAAAAAAAAAAAAAAAAAAAAAAAAAAAAAAAAAAAAAAAAAAAAAAAAAAAAAAAAAAAAAAAAAAAAAAAAAAAAAAAAAAAAAAAAAAAAAAAAAAAAAAAAAAAAAAAAAAAAAAAAAAAAAAAAAAAAAAAAAAAAAAAAAAAAAAAAAAAAAAAAAAAAAAAAAAAAAAAAAAAAAAAAAAAAAAAAAAAAAAAAAAAAAAAAAAAAAAAAAAAAAAAAAAAAAAAAAAAAAAAAAAAAAAAAAAAAAAAAAAAAAAAAAAAAAAAAAAAAAAAAAAAAAAAAAAAAAAAAAAAAAAAAAAAAAAAAAAAAAAAAAAAAAAAAAAAAAAAAAAAAAAAAAAAAAAAAAAAAAAAAAAAAAAAAAAAAAAAAAAAAAAAAAAAAAAAAAAAAAAAAAAAAAAAAAAAAAAAAAAAAAAAAAAAAAAAAAAAAAAAAAAAAAAAAAAAAAAAAAAAAAAAAAAAAAAAAAAAAAAAAAAAAAAAAAAAAAAAAAAAAAAAAAAAAAAAAAAAAAAAAAAAAAAAAAAAAAAAAAAAAAAAAAAAAAAAAAAAAAAAAAAAAAAAAAAAAAAAAAAAAAAAAAAAAAAAAAAAAAAAAAAAAAAAAAAAAAAAAAAAAAAAAAAAAAAAAAAAAAAAAAAAAAAAAAAAAAAAAAAAAAAAAAAAAAAAAAAAAAAAAAAAAAAAAAAAAAAAAAAAAAAAAAAAAAAAAAAAAAAAAAAAAAAAAAAAAAAAAAAAAAAAAAAAAAAAAAAAAAAAAAAAAAAAAAAAAAAAAAAAAAAAAAAAAAAAAAAAAAAAAAAAAAAAAAAAAAAAAAAAAAAAAAAAAAAAAAAAAAAAAAAAAAAAAAAAAAAAAAAAAAAAAAAAAAAAAAAAAAAAAAAAAAAAAAAAAAAAAAAAAAAAAAAAAAAAAAAAAAAAAAAAAAAAAAAAAAAAAAAAAAAAAAAAAAAAAAAAAAAAAAAAAAAAAAAAAAAAAAAAAAAAAAAAAAAAAAAAAAAAAAAAAAAAAAAAAAAAAAAAAAAAAAAAAAAAAAAAAAAAAAAAAAAAAAAAAAAAAAAAAAAAAAAAAAAAAAAAAAAAAAAAAAAAAAAAAAAAAAAAAAAAAAAAAAAAAAAAAAAAAAAAAAAAAAAAAAAAAAAAAAAAAAAAAAAAAAAAAAAAAAAAAAAAAAAAAAAAAAAAAAAAAAAAAAAAAAAAAAAAAAAAAAAAAAAAAAAAAAAAAAAAAAAAAAAAAAAAAAAAAAAAAAAAAAAAAAAAAAAAAAAAAAAAAAAAAAAAAAAAAAAAAAAAAAAAAAAAAAAAAAAAAAAAAAAAAAAAAAAAAAAAAAAAAAAAAAAAAAAAAAAAAAAAAAAAAAAAAAAAAAAAAAAAAAAAAAAAAAAAAAAAAAAAAAAAAAAAAAAAAAAAAAAAAAAAAAAAAAAAAAAAAAAAAAAAAAAAAAAAAAAAAAAAAAAAAAAAAAAAAAAAAAAAAAAAAAAAAAAAAAAAAAAAAAAAAAAAAAAAAAAAAAAAAAAAAAAAAAAAAAAAAAAAAAAAAAAAAAAAAAAAAAAAAAAAAAAAAAAAAAAAAAAAAAAAAAAAAAAAAAAAAAAAAAAAAAAAAAAAAAAAAAAAAAAAAAAAAAAAAAAAAAAAAAAAAAAAAAAAAAAAAAAAAAAAAAAAAAAAAAAAAAAAAAAAAAAAAAAAAAAAAAAAAAAAAAAAAAAAAAAAAAAAAAAAAAAAAAAAAAAAAAAAAAAAAAAAAAAAAAAAAAAAAAAAAAAAAAAAAAAAAAAAAAAAAAAAAAAAAAAAAAAAAAAAAAAAAAAAAAAAAAAAAAAAAAAAAAAAAAAAAAAAAAAAAAAAAAAAAAAAAAAAAAAAAAAAAAAAAAAAAAAAAAAAAAAAAAAAAAAAAAAAAAAAAAAAAAAAAAAAAAAAAAAAAAAAAAAAAAAAAAAAAAAAAAAAAAAAAAAAAAAAAAAAAAAAAAAAAAAAAAAAAAAAAAAAAAAAAAAAAAAAAAAAAAAAAAAAAAAAAAAAAAAAAAAAAAAAAAAAAAAAAAAAAAAAAAAAAAAAAAAAAAAAAAAAAAAAAAAAAAAAAAAAAAAAAAAAAAAAAAAAAAAAAAAAAAAAAAAAAAAAAAAAAAAAAAAAAAAAAAAAAAAAAAAAAAAAAAAAAAAAAAAAAAAAAAAAAAAAAAAAAAAAAAAAAAAAAAAAAAAAAAAAAAAAAAAAAAAAAAAAAAAAAAAAAAAAAAAAAAAAAAAAAAAAAAAAAAAAAAAAAAAAAAAAAAAAAAAAAAAAAAAAAAAAAAAAAAAAAAAAAAAAAAAAAAAAAAAAAAAAAAAAAAAAAAAAAAAAAAAAAAAAAAAAAAAAAAAAAAAAAAAAAAAAAAAAAAAAAAAAAAAAAAAAAAAAAAAAAAAAAAAAAAAAAAAAAAAAAAAAAAAAAAAAAAAAAAAAAAAAAAAAAAAAAAAAAAAAAAAAAAAAAAAAAAAAAAAAAAAAAAAAAAAAAAAAAAAAAAAAAAAAAAAAAAAAAAAAAAAAAAAAAAAAAAAAAAAAAAAAAAAAAAAAAAAAAAAAAAAAAAAAAAAAAAAAAAAAAAAAAAAAAAAAAAAAAAAAAAAAAAAAAAAAAAAAAAAAAAAAAAAAAAAAAAAAAAAAAAAAAAAAAAAAAAAAAAAAAAAAAAAAAAAAAAAAAAAAAAAAAAAAAAAAAAAAAMjAyMzowMzoyNCAxNTowMzoxOAAyMDIzOjAzOjI0IDE1OjAzOjE4AAAAVwBpAG4AZABvAHcAcwAgADEAMQAAAP/hCx1odHRwOi8vbnMuYWRvYmUuY29tL3hhcC8xLjAvADw/eHBhY2tldCBiZWdpbj0n77u/JyBpZD0nVzVNME1wQ2VoaUh6cmVTek5UY3prYzlkJz8+DQo8eDp4bXBtZXRhIHhtbG5zOng9ImFkb2JlOm5zOm1ldGEvIj48cmRmOlJERiB4bWxuczpyZGY9Imh0dHA6Ly93d3cudzMub3JnLzE5OTkvMDIvMjItcmRmLXN5bnRheC1ucyMiPjxyZGY6RGVzY3JpcHRpb24gcmRmOmFib3V0PSJ1dWlkOmZhZjViZGQ1LWJhM2QtMTFkYS1hZDMxLWQzM2Q3NTE4MmYxYiIgeG1sbnM6ZGM9Imh0dHA6Ly9wdXJsLm9yZy9kYy9lbGVtZW50cy8xLjEvIi8+PHJkZjpEZXNjcmlwdGlvbiByZGY6YWJvdXQ9InV1aWQ6ZmFmNWJkZDUtYmEzZC0xMWRhLWFkMzEtZDMzZDc1MTgyZjFiIiB4bWxuczp4bXA9Imh0dHA6Ly9ucy5hZG9iZS5jb20veGFwLzEuMC8iPjx4bXA6Q3JlYXRlRGF0ZT4yMDIzLTAzLTI0VDE1OjAzOjE4LjcxMDwveG1wOkNyZWF0ZURhdGU+PC9yZGY6RGVzY3JpcHRpb24+PHJkZjpEZXNjcmlwdGlvbiByZGY6YWJvdXQ9InV1aWQ6ZmFmNWJkZDUtYmEzZC0xMWRhLWFkMzEtZDMzZDc1MTgyZjFiIiB4bWxuczpkYz0iaHR0cDovL3B1cmwub3JnL2RjL2VsZW1lbnRzLzEuMS8iPjxkYzpjcmVhdG9yPjxyZGY6U2VxIHhtbG5zOnJkZj0iaHR0cDovL3d3dy53My5vcmcvMTk5OS8wMi8yMi1yZGYtc3ludGF4LW5zIyI+PHJkZjpsaT5XaW5kb3dzIDExPC9yZGY6bGk+PC9yZGY6U2VxPg0KCQkJPC9kYzpjcmVhdG9yPjwvcmRmOkRlc2NyaXB0aW9uPjwvcmRmOlJERj48L3g6eG1wbWV0YT4NCiAgICAgICAgICAgICAgICAgICAgICAgICAgICAgICAgICAgICAgICAgICAgICAgICAgICAgICAgICAgICAgICAgICAgICAgICAgICAgICAgICAgICAgICAgICAgICAgICAgICAKICAgICAgICAgICAgICAgICAgICAgICAgICAgICAgICAgICAgICAgICAgICAgICAgICAgICAgICAgICAgICAgICAgICAgICAgICAgICAgICAgICAgICAgICAgICAgICAgICAgIAogICAgICAgICAgICAgICAgICAgICAgICAgICAgICAgICAgICAgICAgICAgICAgICAgICAgICAgICAgICAgICAgICAgICAgICAgICAgICAgICAgICAgICAgICAgICAgICAgICAgCiAgICAgICAgICAgICAgICAgICAgICAgICAgICAgICAgICAgICAgICAgICAgICAgICAgICAgICAgICAgICAgICAgICAgICAgICAgICAgICAgICAgICAgICAgICAgICAgICAgICAKICAgICAgICAgICAgICAgICAgICAgICAgICAgICAgICAgICAgICAgICAgICAgICAgICAgICAgICAgICAgICAgICAgICAgICAgICAgICAgICAgICAgICAgICAgICAgICAgICAgIAogICAgICAgICAgICAgICAgICAgICAgICAgICAgICAgICAgICAgICAgICAgICAgICAgICAgICAgICAgICAgICAgICAgICAgICAgICAgICAgICAgICAgICAgICAgICAgICAgICAgCiAgICAgICAgICAgICAgICAgICAgICAgICAgICAgICAgICAgICAgICAgICAgICAgICAgICAgICAgICAgICAgICAgICAgICAgICAgICAgICAgICAgICAgICAgICAgICAgICAgICAKICAgICAgICAgICAgICAgICAgICAgICAgICAgICAgICAgICAgICAgICAgICAgICAgICAgICAgICAgICAgICAgICAgICAgICAgICAgICAgICAgICAgICAgICAgICAgICAgICAgIAogICAgICAgICAgICAgICAgICAgICAgICAgICAgICAgICAgICAgICAgICAgICAgICAgICAgICAgICAgICAgICAgICAgICAgICAgICAgICAgICAgICAgICAgICAgICAgICAgICAgCiAgICAgICAgICAgICAgICAgICAgICAgICAgICAgICAgICAgICAgICAgICAgICAgICAgICAgICAgICAgICAgICAgICAgICAgICAgICAgICAgICAgICAgICAgICAgICAgICAgICAKICAgICAgICAgICAgICAgICAgICAgICAgICAgICAgICAgICAgICAgICAgICAgICAgICAgICAgICAgICAgICAgICAgICAgICAgICAgICAgICAgICAgICAgICAgICAgICAgICAgIAogICAgICAgICAgICAgICAgICAgICAgICAgICAgICAgICAgICAgICAgICAgICAgICAgICAgICAgICAgICAgICAgICAgICAgICAgICAgICAgICAgICAgICAgICAgICAgICAgICAgCiAgICAgICAgICAgICAgICAgICAgICAgICAgICAgICAgICAgICAgICAgICAgICAgICAgICAgICAgICAgICAgICAgICAgICAgICAgICAgICAgICAgICAgICAgICAgICAgICAgICAKICAgICAgICAgICAgICAgICAgICAgICAgICAgICAgICAgICAgICAgICAgICAgICAgICAgICAgICAgICAgICAgICAgICAgICAgICAgICAgICAgICAgICAgICAgICAgICAgICAgIAogICAgICAgICAgICAgICAgICAgICAgICAgICAgICAgICAgICAgICAgICAgICAgICAgICAgICAgICAgICAgICAgICAgICAgICAgICAgICAgICAgICAgICAgICAgICAgICAgICAgCiAgICAgICAgICAgICAgICAgICAgICAgICAgICAgICAgICAgICAgICAgICAgICAgICAgICAgICAgICAgICAgICAgICAgICAgICAgICAgICAgICAgICAgICAgICAgICAgICAgICAKICAgICAgICAgICAgICAgICAgICAgICAgICAgICAgICAgICAgICAgICAgICAgICAgICAgICAgICAgICAgICAgICAgICAgICAgICAgICAgICAgICAgICAgICAgICAgICAgICAgIAogICAgICAgICAgICAgICAgICAgICAgICAgICAgICAgICAgICAgICAgICAgICAgICAgICAgICAgICAgICAgICAgICAgICAgICAgICAgICAgICAgICAgICAgICAgICAgICAgICAgCiAgICAgICAgICAgICAgICAgICAgICAgICAgICAgICAgICAgICAgICAgICAgICAgICAgICAgICAgICAgICAgICAgICAgICAgICAgICAgICAgICAgICAgICAgICAgICAgICAgICAKICAgICAgICAgICAgICAgICAgICAgICAgICAgICAgICAgICAgICAgICAgICAgICAgICAgICAgICAgICAgICAgICAgICAgICAgICAgICAgICAgICAgICAgICAgICAgICAgICAgIAogICAgICAgICAgICAgICAgICAgICAgICAgICAgPD94cGFja2V0IGVuZD0ndyc/Pv/bAEMABwUFBgUEBwYFBggHBwgKEQsKCQkKFQ8QDBEYFRoZGBUYFxseJyEbHSUdFxgiLiIlKCkrLCsaIC8zLyoyJyorKv/bAEMBBwgICgkKFAsLFCocGBwqKioqKioqKioqKioqKioqKioqKioqKioqKioqKioqKioqKioqKioqKioqKioqKioqKv/AABEIASQCNAMBIgACEQEDEQH/xAAfAAABBQEBAQEBAQAAAAAAAAAAAQIDBAUGBwgJCgv/xAC1EAACAQMDAgQDBQUEBAAAAX0BAgMABBEFEiExQQYTUWEHInEUMoGRoQgjQrHBFVLR8CQzYnKCCQoWFxgZGiUmJygpKjQ1Njc4OTpDREVGR0hJSlNUVVZXWFlaY2RlZmdoaWpzdHV2d3h5eoOEhYaHiImKkpOUlZaXmJmaoqOkpaanqKmqsrO0tba3uLm6wsPExcbHyMnK0tPU1dbX2Nna4eLj5OXm5+jp6vHy8/T19vf4+fr/xAAfAQADAQEBAQEBAQEBAAAAAAAAAQIDBAUGBwgJCgv/xAC1EQACAQIEBAMEBwUEBAABAncAAQIDEQQFITEGEkFRB2FxEyIygQgUQpGhscEJIzNS8BVictEKFiQ04SXxFxgZGiYnKCkqNTY3ODk6Q0RFRkdISUpTVFVWV1hZWmNkZWZnaGlqc3R1dnd4eXqCg4SFhoeIiYqSk5SVlpeYmZqio6Slpqeoqaqys7S1tre4ubrCw8TFxsfIycrS09TV1tfY2dri4+Tl5ufo6ery8/T19vf4+fr/2gAMAwEAAhEDEQA/APpGiiigAooooAKKKKACiiigAooooAKKKKACiiigAooooAKKKKACiiigAooooAKKKKACiiigAooooAKKKKACiiigAooooAKKKKACiiigAooooAKKKKACiiigAooooAKKKKACiiigAooooAKKKKACiiigAooooAKKKKACiiigAooooAKKKKACiiigAooooAKKKKACiiigAooooAK5zx3fXOneFpLmxneCZZEAdDg8nmujrlPiR/yJk3/XWP8AnQB5t/wmPiH/AKC1x+Yo/wCEx8Q/9Ba4/MViUUAbf/CY+If+gtcfmKP+Ex8Q/wDQWuPzFYlFAG3/AMJj4h/6C1x+Yo/4THxD/wBBa4/MViUUAbf/AAmPiH/oLXH5ij/hMfEP/QWuPzFYlFAG3/wmPiH/AKC1x+Yo/wCEx8Q/9Ba4/MViUUAbf/CY+If+gtcfmKP+Ex8Q/wDQWuPzFYlFAG3/AMJj4h/6C1x+Yo/4THxD/wBBa4/MViUUAbf/AAmPiH/oLXH5ij/hMfEP/QWuPzFYlFAG3/wmPiH/AKC1x+Yo/wCEx8Q/9Ba4/MViUUAbf/CY+If+gtcfmKP+Ex8Q/wDQWuPzFYlFAG3/AMJj4h/6C1x+Yo/4THxD/wBBa4/MViUUAbf/AAmPiH/oLXH5ij/hMfEP/QWuPzFYlFAG3/wmPiH/AKC1x+Yo/wCEx8Q/9Ba4/MViUUAbf/CY+If+gtcfmKP+Ex8Q/wDQWuPzFYlFAG3/AMJj4h/6C1x+Yo/4THxD/wBBa4/MViUUAbf/AAmPiH/oLXH5ij/hMfEP/QWuPzFYlFAG3/wmPiH/AKC1x+Yo/wCEx8Q/9Ba4/MViUUAbf/CY+If+gtcfmKP+Ex8Q/wDQWuPzFYlFAG3/AMJj4h/6C1x+Yo/4THxD/wBBa4/MViUUAbf/AAmPiH/oLXH5ij/hMfEP/QWuPzFYlFAG3/wmPiH/AKC1x+Yo/wCEx8Q/9Ba4/MViUUAbf/CY+If+gtcfmKP+Ex8Q/wDQWuPzFYlFAG3/AMJj4h/6C1x+Yo/4THxD/wBBa4/MViUUAbf/AAmPiH/oLXH5ij/hMfEP/QWuPzFYlFAG3/wmPiH/AKC1x+Yr1nwbd3F/4Rsrm8laaaQPudup+dh/IV4XXtvgL/kR9O+j/wDoxqAOiooooAKKKKACiiigAooooAKKKKACiiigAooooAKKKKACiiigAooooAK5T4kf8iZN/wBdY/511dcp8SP+RMm/66x/zoA8booooAKKKKACiiigAooooAKKKKACiiigAooooAKKKKACiipIIXuLiOGFd0kjBEUdyTgCgDQXw9ft4cbWwi/Y1fYTn5uuM49M8VQtoHurqK3ixvmcIuemScCvSBeW8XiKLweXBsfsJs3PbziN2/654+prhdPtpLPxVa2042yw3qI49CHANAGvJ8PtUicpJeacrjqpucH+VYmraLf6JdCDUoDEzDKMCCrj1BFb/jDQ9WvPGF/La6ZeTRO67ZEgYqflHfGKm8Sxyad4D0jTdUI/tFZWkEZbLRxfNwfzH5e1AHN6vo1zos8EV4Yy08KzrsbPykkDPvxVOCCW6uEgt42klkYKiKMljXU/EP8A5Cmmf9gyL/0J6y/CeqW+jeJ7S9vATChZWIGSuVIz+GaAL/8AwgOqDEbXWnrdH/l0N0PNzjOMdP1rnbu0nsbqS2u4mimjOHRhyDXUan4N1Ge4m1LRLiPVbd3MgkgkBkGTnkev0qrGl/418WQW98qwT7fLmdYypVUzkkH+Lt+VAHN0V2VonhHUdUXR4bC5i8x/Ki1D7QSzN0BKdACf59qZoHh3TzLr0evCQjTF5eFiCMFskDvnHGaAOQorrtMtvD3iHW3sLLT5LPzbV1ty87MTMMkMefTt7VR8MaTbXd1fz6vEzWmn27yyqGKkt0C5Hfr+VAHP0V0umaXptn4f/t3XYpLiOWUxWtpE5TzCOpLdQOCPwp2paZpeo+GW1zQ7eSy+zyiK5tXkMgXOMMGPPUgf/q5AOYortb6y8M6JpmmTXljPd3N5YxymJZiqqSOXJznr26cVxVABRRRQAUUUUAFFFFABRRRQAUUUUAFFFFABRRRQAV7b4C/5EfTvo/8A6MavEq9t8Bf8iPp30f8A9GNQB0VFFFABRRRQAUUUUAFFFFABRRRQAUUUUAFFFFABRRRQAUUUUAFFFFABXKfEj/kTJv8ArrH/ADrq65T4kf8AImTf9dY/50AeN0UUUAFFFFABRRRQAUUUUAFFFFABRRRQAUUUUAFFFFABXUeBbWP+1p9Vuh/o2lwtO3u2DtH16n8K5enrNIkbRpI6o/3lDEBvqKAOnbxlaNffbG8O2RufM83zd7bt2c5+uau6/bxzeLNE1q1XEGqPDLx/C4ZQw/l+Oa4ipPPm2InmvtjOUG44U+3pQB1PjLW9VtfF1/DbaneQxK6hY47hlUfKOgBrlZZZJ5WknkaR26s7Ek/iaSSR5XLyuzuerMck02gDrfiH/wAhTTP+wZF/6E9Y/h2z03UNYS11i4ktoJVKrKjAYftkkHis2SWSYgyyM5UYBZicD0plAHT2/hPxVpuqqLG2njlVvlnhcBCPXdnGPY10s+safZfFOGRpoRvtRb3U6/dWY55z+Cj279K88XUb1IPIS8uFixjyxKwX8s1WoA9Heb4iLqRtFnLJu4uTBEItv97dt6Y5x1rP0Oe4ubDxfLeTJPO1t88qY2ufmGRjjFcgb67Nt9nN1MYMY8rzDt/LpUSSyRqyxyMquMMFYgMPegCbT72TTtSt7yH78EiuB64PSu28YNa6Vocw09w39vXIuiR/zyChsf8AfRzXAU95ZJAokdmCDChjnaPQUAegaFqWqz+AoLbwxcBb+xlbzoNqszxsxYEBge5/nWZrl54vfw7IdfuBFazSKnkSxxpJJg7sgBc4BArkoppIJBJBI8br0ZGII/EU6e5nupN9zNJM/wDekYsfzNAHR+M/+PXw9/2CYf5Vy9PeWSQKJHZ9o2ruOcD0FMoAKKKKACiiigAooooAKKKKACiiigAooooAKKKKACvbfAX/ACI+nfR//RjV4lXtvgL/AJEfTvo//oxqAOiooooAKKKKACiiigAooooAKKKKACiiigAooooAKKKKACiiigAooooAK5T4kf8AImTf9dY/511dZXiTRP8AhIdFew+0fZ9zq3mbN+MHPTIoA8For0j/AIVJ/wBRr/yU/wDs6P8AhUn/AFGv/JT/AOzoA83or0j/AIVJ/wBRr/yU/wDs6P8AhUn/AFGv/JT/AOzoA83or0j/AIVJ/wBRr/yU/wDs6P8AhUn/AFGv/JT/AOzoA83or0j/AIVJ/wBRr/yU/wDs6P8AhUn/AFGv/JT/AOzoA83or0j/AIVJ/wBRr/yU/wDs6P8AhUn/AFGv/JT/AOzoA83or0j/AIVJ/wBRr/yU/wDs6P8AhUn/AFGv/JT/AOzoA83or0j/AIVJ/wBRr/yU/wDs6P8AhUn/AFGv/JT/AOzoA83or0j/AIVJ/wBRr/yU/wDs6P8AhUn/AFGv/JT/AOzoA83or0j/AIVJ/wBRr/yU/wDs6P8AhUn/AFGv/JT/AOzoA83or0j/AIVJ/wBRr/yU/wDs6P8AhUn/AFGv/JT/AOzoA83or0j/AIVJ/wBRr/yU/wDs6P8AhUn/AFGv/JT/AOzoA83or0j/AIVJ/wBRr/yU/wDs6P8AhUn/AFGv/JT/AOzoA83or0j/AIVJ/wBRr/yU/wDs6P8AhUn/AFGv/JT/AOzoA83or0j/AIVJ/wBRr/yU/wDs6P8AhUn/AFGv/JT/AOzoA83or0j/AIVJ/wBRr/yU/wDs6P8AhUn/AFGv/JT/AOzoA83or0j/AIVJ/wBRr/yU/wDs6P8AhUn/AFGv/JT/AOzoA83or0j/AIVJ/wBRr/yU/wDs6P8AhUn/AFGv/JT/AOzoA83or0j/AIVJ/wBRr/yU/wDs6P8AhUn/AFGv/JT/AOzoA83or0j/AIVJ/wBRr/yU/wDs6P8AhUn/AFGv/JT/AOzoA83or0j/AIVJ/wBRr/yU/wDs6P8AhUn/AFGv/JT/AOzoA83or0j/AIVJ/wBRr/yU/wDs6P8AhUn/AFGv/JT/AOzoA83or0j/AIVJ/wBRr/yU/wDs6P8AhUn/AFGv/JT/AOzoA83or0j/AIVJ/wBRr/yU/wDs6P8AhUn/AFGv/JT/AOzoA83or0j/AIVJ/wBRr/yU/wDs6P8AhUn/AFGv/JT/AOzoA83r23wF/wAiPp30f/0Y1c1/wqT/AKjX/kp/9nXbaDpX9h6Hb6d53n+QGHmbNu7LE9Mn1oA0aKKKACiiigAooooAKKKKACiiigAooooAKKKKACiiigAooooAKKKKACiiigAooooAKKKKACiiigAooooAKKKKACoL29t9Ps5Lq8lWKGMZZmovb230+zkuryVYoYxlmavK9Q1DVPiHry2VgrRWUZyAfuoP77+/tXXh8O6z5paRW7OLFYpUEoxV5PZHa6D460zXtQezjWS3l/5ZCXH70e3v7V01eCaPo15qsd1Lpu4z2arKEU4YjPVfccGvR/BXjVdXVdO1Vgl+gwjngTAf+ze3eurGYJQvKlst12OLA5hKpaNfRvZ9H5HaUUUV5R7QUUUUAFFFFABRRRQAUUUUAFFFFABRRRQAUUUUAFFFFABRRRQAUUUUAFZ517Sxqn9mm8j+2btvk87s4z/KtCvK5P8Akt4/67j/ANFConJxsceKryo8nKt2l956pRRRVnYFFFFABRRRQAUUUUAFFFFABRRRQAUUUUAFFFFABRRRQAUUUUAFFFFABRRRQAUUUUAFFFFABRRRQAUUUUAFFFFABRRRQAUUUUAFFFFABRRRQAUUUUAedeLdN8ReJPFA02OCSLToyNkpB8vpksT3PUYrs9C0Kz0DTVtLJfeSQj5pG9TWlRXTUxEp01TWiRyUsLCnUlVesn36eSPL/hR/yFNQ/wCuK/8AoVanjTwQ1zIdW0FCl2p3SQx8Fz/eX0b+f1rL+FH/ACFNQ/64r/6FXqFduLrTo4tyj5fkefgcPDEYFQn5/mY/ha41O58PW8mtwtFd8gh12swHQkdjWxRRXlzlzSckrHsQi4RUW72CiiipLCiiigAooooAKKKKACiiigAooooAKKKKACiiigAooooAKKKKACvK5P8Akt4/67j/ANFCvVK8rk/5LeP+u4/9FCsqnT1PLzH/AJdf40eqUUUVqeoFFFFABRRRQAUUUUAFFFFABRRRQAUUUUAFFFFABRRRQAUUUUAFFFFABRRRQAUUUUAFFFFABRRRQAUUUUAFFFFABRRRQAUUUUAFFFFABRRRQAUUUUAFFFFAHl/wo/5Cmof9cV/9Cr1CvL/hR/yFNQ/64r/6FXqFehmP+8v5fkeXlX+6R+f5hRRRXnnqBRRRQAUUUUAFFFFABRRRQAUUUUAFFFFABRRRQAUUUUAFFFFABRRRQAV5XJ/yW8f9dx/6KFeqV5XJ/wAlvH/Xcf8AooVlU6ep5eY/8uv8aPVKKKK1PUCiiigAooooAKKKKACiiigAooooAKKKKACiiigAooooAKKKKACiiigAooooAKKKKACiiigAooooAKKKKACiiigAooooAKKhvLuGws5bq6cRwwqXdj2AqO31G3n0qPUC3kW8kYl3TfJtUjPPpVcrtexPNFO19S1RWFH418Oy3IgXVIt5OMsrBf8AvojH61sXF1DaWklzcSBIY1Lu/UAevFOVOcWlJNXJjVpzTcZJ28yWisD/AITnw3/0FI/++H/wqwfFeiLp63xv0Fs0hiWTa2CwGcdPSrdCqt4v7iFiKL2mvvRr0Vgf8Jz4b/6Ckf8A3w/+FSnxbo7aVdahb3P2iC02+b5anI3HA64o9hVW8X9wfWKL2mvvNqimQyrPBHKmdsihhn0IzT6xN9zy/wCFH/IU1D/riv8A6FXqFeX/AAo/5Cmof9cV/wDQq9Qr0Mx/3l/L8jy8q/3SPz/MKKKK889QKKKKACiiigAooooAKKKKACiiigAooooAKKKKACiiigAooooAKKKKACvK5P8Akt4/67j/ANFCvVK8rk/5LeP+u4/9FCsqnT1PLzH/AJdf40eqUUUVqeoFFFFABRRRQAUUUUAFFFFABRRRQAUUUUAFFFFABRRRQAUUUUAFFFFABRRRQAUUUUAFFFFABRRRQAUUUUAFFFFABRRRQBR1rSotb0ifT55Hjjm25aPGRhg3f6VzfiqH7RqPh7w9ub7LNJmYZxvWMDAP6/pXZVyXjMPYalo2uhGeCxmK3G0Z2o+Bu/Dn8xXXhZPnUfW3rbT9DixkI+zcvS/pfX9Teu9F0+8017GS0hEDJsCrGBs9CPQise90yXR/hze2E10bsw2sirKU2nbg4GMnp0qbVbTwvrsEd/qklvPFGhCS/aSoA69mFc9oKsvwgvywIDRzkZHUVpTjLlTbfxLRrr6mNWUedpJaxdmn003Vvu3L3h/W/DEHh2wivLiyWdIFEgdASGxzniuoto9PvbGOS2igltn+dMRjaffGKwvDcGhN4Z043MWnmU26bzIqbs475710dq1sYAtkYvKT5QIsbV9uKzxDjzPlvv1NcKpci5rbLY5K5s7YfFSziFvEIzppJTYME7n5xW/qvh+z1TT/ALEw+zwNKryrAAvmhTnaeOlY11/yVqz/AOwYf/Q3rradaco8jT6L9QoU4S9omtOZ/khAAqgKAABgAdqWiiuM7jy/4Uf8hTUP+uK/+hV6hXl/wo/5Cmof9cV/9Cr1CvQzH/eX8vyPLyr/AHSPz/MKKKK889QKKKKACiiigAooooAKKKKACiiigAooooAKKKKACiiigAoorxXSNY8ZavcSx6TfXVw6LucGReBn/aqJT5bHHicWsO4pxbcr7eR7VRXlnk/Er1uP+/kX+NHk/Er1uP8Av5F/jU+08mc/9oP/AJ9T+49TryuT/kt4/wCu4/8ARQpfJ+JXrcf9/Iv8aoHw/wCODqX9oGzb7Znd5+Yd2cY659KiUnK2jOTFYmVbktSlo09ux7FRXlnk/Er1uP8Av5F/jR5PxK9bj/v5F/jV+08mdf8AaD/59T+49ToryzyfiV63H/fyL/GqGr3vjvSrNZ9Vubm3hZwgcSJy2CcfLz2NL2tujFLMuVXdKX3HsVFY/hK6nvPCen3F1K0s0kWWdjkscmtitU7q56VOanBSXUKKKKZYUUUUAFFFFABRRRQAUUUUAFFFFABRRRQAUUUUAFFFFABRRRQAUUUUAFFFFABRRRQAUVz99440LTr6W0u7l1mhba6iJjg/XFXNJ8SaTrbMum3iyyKMmMgqwHrg4rV0aqjzOLt6GMcRRlLkUlftc1KKKKyNgpGVXQo6hlYYKkZBFLRQBi/8Id4e+0ed/ZNvuznG35f++en6VqSWlvNZtaSQobdk2GLGF2+mKmoq5VJy3bM40qcb8sUr+Rif8Ib4e/6BVv8Aka0dP0yz0q3aDTrdLeJm3lU6E4Az+gq1RTlUnJWk2wjSpwd4xS+RXawtW1Fb9oFN0kflrL3C8nH6mrFFRtcQpOkDzRrLICUjLAM2OuB3qNWVZRJKKKKRR5f8KP8AkKah/wBcV/8AQq9Qry/4Uf8AIU1D/riv/oVeoV6GY/7y/l+R5eVf7pH5/mFFFFeeeoNeWOPHmOq56bjihJEkBMbq2Ou05rh/G1nBqHjHw5aXkfmQStIrpuIyOO45pnifwrpfh7QpdW0PzNNvLUqyOk7HflgNpDE+tZuT102OGeJqRc2opqO+uu1+36ne0VjT+IoNO8O2eo6kGElxHHthjXc7yMoO1R61XsvF0c2pQ2OpabeaZLc/8e5uUwsh9Mjofaq5kbvEUk0m9X+p0NFYmreJodN1BNPtrS41C+dPM8i3XOxfVielP0TxJb6zcT2hgns723AMttcLhgD3HqOn5ijmV7D9vT5+S+psUVy0fjmO7Ey6ZpGoXssEjJKscYwmO+c9+w61raFr9pr9k89pvjaNtksMow8behFCknsKGIpTfLFmnRXMP41jlkmOk6Vf6lbwMVkuLdBsyOu3P3q0rfxFY3nh2bWbRmlt4YnkdQMMNoyVI7GjmTCOIpSdk/6/U1aK5P8A4TyKWyF5ZaPqN1aqm6WZIxtj4yRnvjv2FbX/AAkGnDw9/bRmxZbN+/HPXGMeueMetCkmEcRSne0ttfl3NKiuW/4TmKHyZtQ0nULKxnICXcsY2jPQsAeBWvrOu2eh2iTXW+RpWCQwwrueVvRR3o5kEcRSlFyT2NKiuf0/xZHcapHp+o6fd6ZcTgmAXCjbLjsCO/tXQU009i6dSFRXiwryv4Tf8hnUf+uA/wDQq9Uryv4Tf8hnUf8ArgP/AEKs5/HE8/Ff71Q/7e/JHqlFFFanqBRRRQAUUUUAFcT8Vf8AkU4P+vxP/QHrtq4n4q/8inB/1+J/6A9RU+BnFj/91n6Gx4J/5ErTP+uX/sxrerB8E/8AIlaZ/wBcv/ZjW9Tj8KNsP/Bh6L8jkPEt1qsni7StJ0zU2sEu4pGd1iV+VBPQ/THWoNVfxN4Usf7Tl1mPVrWJ18+CW2WI7SQMggk9SP8A69N8Uter8QtCOlpC915EvlrOSEPytnOOemaq6s+t6vrdn4e8SyW1hZ3f7wNaAnzypzs3MeDx6enWsm9WeZVl71S3NzXstXZaK3W253X262XT1vZZkit2QSeZIwUAEZGTUGn65pmqu6adfQXDpyyo+SB649PeuS8YzFvE+i6ULKS9tI42nNnFj96RkKDnsMflmorxL671vSrzTfDFxps1tcL5koVQGiPDKcdeP61Tm7nTLFyU3FK9mls9e9uh2uoavp+lKrajeQ2277okcAt9B1NSWWoWmpW/n2FzFcR5xujYEA+ntXKavp15Y+MZdabSf7ZtJYFjVFwXtyPRT1zz09T+NnwqdEn1jULvSPtNpcyBRc6fKgjEZHRtmOvXv3PrT5nexpHETdXkaS1+fquj9DVl8UaHDbpNJqtqI5M7CJAd2OvStG3uYbu3Se1lSaJxlXjYMD+IriPhvpGnz+FTcXFnDNLLK6u8iBiQOMc9qi0qd9BTxjaWJxDY/vrcDkRllY4/DA/KkpuybM6eKqcsJ1ErSXT0v+h1t34j0axuvs13qdtFNnBRpBlfr6fjV6S6gitGupJkWBV3mUt8oX1z6VznhPQNMPhG1M9pDcPeQiWeSVAzOW55J9M1iaezW/g3xXpYcvBp8k8UBY5Krg8fp+pp8z6lfWKkUpTS1Ta+SvZnXzeJtEt5I0m1S1RpVDoDIOVIyD7ZB71pGWNYTKzqIwu4uTxj1z6VyOkaDpcnw6j32ULPNZeY8hQFi23Od3Xjt6VSstPvfEPwgtrW0lxOVIAZsBwkhAXPbgD8qOZhHEVesU243Vvlp+J1Vr4j0a9uxbWmp20sx4CLIMt9PX8KvXN1BZW7T3c0cES/eeRgoH4muDvJtGuLe10/xFotz4fkR1EN1CihEYdllAP8vf3qXxbcSTeNtMsJLKXU7aC3+0/ZYyP3j5YZI6EDA/Wlz6EfW5KDbs3ouvXut/8AM67T9a03Viw029huGQZZUfJA9cdavVwEsd9c+KNIvtP8NXGmNDMEuJAFCvExAOQPQZrv6uMmzpw9WVRPmW3qr/eFFFFUdIUUUUAFFFFABRRRQAUUUUAcZ4evbWz8Y+J/tdzDBvmi2+bIFzgPnGfrUd9cWeqfETR30J455oA7Xc8BBXZjABYcHuPxFJomlWGp+MfE39oWkNz5c0WzzUDbchs4/IVNpiJ4U8Zy6XtCafqv721OMBJB1T/P+zXqy5VOTj8XKtOnwr9NTxY87pxUrcvM9evxO33vQu3ms6pqGvT6T4dFvH9kVTdXVwCwUnoqgd/r6H0qTRNavm1a60bXUhW8t4xMk0OQksfTOD0Iz/nFc1/ZumxeN9WttfuZrM3Lie2kWcxJIpzkZ6Z5x+BrY0jTPDx1i7j0i7mubxbYo8hmMiqrcY3dM5HT/wCvUzp04wtbotbfjcunUqyqXv1atfprpa3zCx1bxD4jM17ops7TT0cpD9pRmabHc46D6frVjQte1G/ttZOowwwz2EjIqJyAQpPJ78iqfgjWLLT/AA9/ZmpXEVnd2EkiSxzuEP3i2eeo5x+FM8KzJqS+J5bM+YlxcuYjjG4FTiipBLnXLZK1n8+/mgpVG/Zvnbcr3Xy7dLM3vCuqT6z4ZtL+8CCabfu2DA4dlH6Cs7RfFLzeFL3V9VCAW0zriJcZAxgfUk4qn4K1/SrDwVbxXt/BBLbGQSxyOA4O9j93qeD2rH0y0m1P4U6pHaKzSG6aQIOrAFGIx9B0o9hHnmpKy5kvldgsTL2cHF3fI387L9TcbUfFw0o615dgsAj877EQ2/y8Z+9/exz/AJxVvU/FnleHLC/06JHm1GRIoVlbCxs3XcfYjFYVjaeErnREu5tXuIh5Y82J70hkOOV29f8AGtK/k0LT/CmmWtzZTXGj3LALLLkGDcchj3HU9KcoQ5kuXr2t8t9RRqVORvnVrd7699tF+RZF34n0vULQajFBqNpcSCORrOJg0BP8R/2fc/pWRrUWsf8ACxtLCXFoJmWY2rGJtqJtbhhnk49KbPNF4f1HTR4a1uS+W5uFjawacTLsPUr/AHf8+laHiCaOz+ImgXN1IsMHlTKZJGwoO0jGfxH504rlldJaxl08n0/q5M3zQs29JR633a6/57HWwiQQIJyrShRvKjAJxzj2p9NR1ljV42V0YAqynIIPcGnV5TPZWx5f8KP+QpqH/XFf/Qq9Qry/4Uf8hTUP+uK/+hV6hXoZj/vL+X5HmZV/ukfn+YUUUV556hwvja3a78Y+HIEnlt2kaQCWI4ZOnINVNc0YaPrulXGuX15qukSS7JBdyllik/hYgcY/wNdlf6Da6jq9hqM8kyzWJJiVCApz65Ge3Yip9W0u21nS5rC9DGGYYJU4KnOQR7g1k4XuzzamEc3Ul1bTXyS3+45Pxkt0/jLw6lrNDBnzBDJMu5BJgdvX7uPfFTaj4c8Q6q1oNT1axKW9wkybICrbh6H8a3Lvw3Y3+hw6XfGW4jgUCOZ2HmqRwDuAHP4fWqdp4Ot4ruCe+1HUNSNsweFLufcqMOhxjk0OLuKWHnKcm1dSs97W0W/3FbUNNNz4qnvPDurRW2rQwrHc28qb1dDgjPcduR7U/RNTmfxRcafrenWkOrJbhxd2wyJY8jjJ+Yc44PpV3VvC9rqd+t/HcXVjequz7RaSbGZfQ+tSaP4btNHuZrpJbi6vJxtkubmTe5Hp7D/AU7O5apVFVulZXu9dH8uj9DM+H2P7Gv8AGM/2jNn9Ky4A517xx/Z2dv2bA2f89fLbp77t1R+FPDqalp99cw6hfWE7Xssbvazbd6gjAI6cZPPvXY6LodnoNibaxDEMxeSSQ5eRvUmpim0jGhTqVadNNWSvr8mv1KHgYwnwTp32fbt8s7sf3txz+tc9p206b46Nt/x6Zm8vH3d2x92O3p+lbkvgi0E0xsNQ1DToZ2LS29rPtjYnrgY4rTh0CxtvD8uj2sbQ2ssTxNtPzHcME5PfmnyvRdjRUasoxjJW5U166WKHhUA+ALIEDBtTkfnXP6DDp138J4rbWbn7NbSyOglJ+43mEj9RXa6fpkOm6RFp0DSNDFH5as5BYj8Bj9KpWvhbTbbw3/YbrJcWZySJmG7k5zkAdDT5Xp6FPDzairLSLXz0/wAjB1KXXfD2kk63HY69pEe1Zd0e2ULkAEqcqecep/nUHiP7TN448PnTZobYPbN9laePKKxB4x64wPyrXXwNasEivdT1O8tIyCtrPcZj46A4HIrV1jQLDXLNLe9jIER3RSRHa8R9VPalytozeHqzi1ttZN66O++9uxgXnh3X9RvtOl1TVrFha3KzRiOEoxI5IB+g/Suxrn7LwjBb30N3fahf6lJbnMIu5tyxn+8Bjr710FXFWOvD03C7as353CvK/hN/yGdR/wCuA/8AQq9Uryv4Tf8AIZ1H/rgP/QqifxxOTFf71Q/7e/JHqlFFFanqBRRRQAUUUUAFcT8Vf+RTg/6/E/8AQHrtq4n4q/8AIpwf9fif+gPUVPgZxY//AHWfobHgn/kStM/65f8AsxrerB8E/wDIlaZ/1y/9mNb1OPwo2w/8GHovyMK/0S5uvGelavG8Qt7OORZFYneSykDAxjv607xToLa9papbSLDe28gltpmJGxwfUc4/+t6Vt0Ucq1B0IOMov7W/9fI53WPD99qkOn30NxFaa1YjKyLlo2JHzKeM7T9O59aW0g8VXN7bvqlzY2dvC250s1Zmn9iW6D6c10NFHKr3F9Xjzcyb89dzmr7SNbs9cn1Pw/c28iXSgTWl4W2gjgMpHT/9dSaHoV9Brl3rWszW7XlzGIhHbKQkajHc8k8Cuhoo5Ve4LDwUubXe9ulzzfwMniOPwsJNFksZoZJXHlXQYGNvUFeoPoa6nQfDX2DTr5NVlW7utSZmvHHCtkEbR7YJ/OtHR9HtND08WVgGEIYsA7ZOT71eqYwslcxw+FVOEefVpfLzOQtNI8VaJaHTdJutPuLNciCa6DCSIHtgcHHb/DircHhU2fg++0uCcS3l6jtLcS5AeRh1PUgV0lFPkRpHC0132stdl5GXp+mTWnhWHTJGjM0dr5JZSdu7bj0zj8KyLbwldL4EttGkvRb3ts7SJPAxKht7MPQkYbFdXRT5UW8PTdr9rfLT/I4+/wBF8T+ILMabrM2mwWZZTLLbBzI+DngHgdK0Ne8Oz3l1Z6jo1ytrqNkNsbSDKSIf4W/X8z+HQUUcqJ+qws73d7a3102+45+xt/E9zqEE2rXNla20JJaGzDMZjjGGLdB9P/r10FFFNKxrThyK12/UKKKKZoFFFFABRRRQAUUUUAFFFFAEUVpbwTSzQW8UcsxBldEAaQjpkjr170lxZ212YzdW8UxibdGZEDbD6jPQ1NRT5ne4uVWtYr3mn2eoxiO/tYblAcgSoGx9M9KW0srWwh8qytorePrtiQKP0qeinzO1r6C5Y35ralK60bTL24E95p9tPMvR5IlY/may/DNhc2ep649xA0Uc94XiJHDL6iuhoq1VkouPczdGLmp9UUW0PSnvPtb6datcZ3eaYVLZ9c46+9Wba0t7OMx2lvFAhYsViQKCT3wO9S0VDlJqzZooRTukUH0LSZLv7VJpto0+cmQwrkn16dferksUc8TRTRrJGwwyOuQR7in0UOUnuwUIq9luUrPRtM0+UyWOn21vIf444lVvpmpb3T7PUYhHf2sNygOQJUDYPtnpViijnlfmvqLkily20GoixRqkaqiKAFVRgADsBTqKKks8v+FH/IU1D/riv/oVeoV5f8KP+QpqH/XFf/Qq9Qr0Mx/3l/L8jy8q/wB0j8/zCiiivPPUCiiigAooooAKKKKAGxxRwqRFGqAnJCjGT604nAyaK5Hxa8uqa9pXhtJXigu90t0UOC0ajO3PocH9KmTsjGrU9lC6V+i9WdHDq2nXFx5EF/ayzf8APNJlLfkDmrdc1qfgfR7jSZYbCxhtrlUJgmj+VlcfdJPU8+tWU1STQPCUV14lcfaIU2SbDuMjZwMepIwfzou1uRGrOLaqpJWvdbG5RXKv4xvbJEutY8PXNlp7kD7T5quUz0LIBla1db8Q2miaWl7IGn84hYI4uWlY9AP8aOZFLEUmm77b3uvzLeo6lZ6TaG61CYQQghS5BPJ6dKtV5t441vUbrwuYNV0KfTvMlRo5PNWVTjsSMbT7H0rtdd16DQ4Yt8clxc3D7Le2iGXlb29vekpq7MoYqMpzvokl0a3v3NSiucsvFU/9rQafrukS6VLdZ+zsZhKkhHbIHB9q6OqTT2OinUjUV4/5fmFeV/Cb/kM6j/1wH/oVeqV5X8Jv+QzqP/XAf+hVnP44nn4r/eqH/b35I9UooorU9QKKKKACiiigArifir/yKcH/AF+J/wCgPXbVxPxV/wCRTg/6/E/9AeoqfAzix/8Aus/Q2PBP/IlaZ/1y/wDZjW9WD4J/5ErTP+uX/sxrepx+FG2H/gw9F+Rxvidr668aaRpdpqVzYxXMMhdoGxyoJHH4UahFr3hO1/tGLVJNWs4iPtNvcoN4XP3lbrxn/wDXUmsf8lR8Pf8AXCf/ANAatfxZNHB4R1RpiAptXQZ9WGB+pFRbdnFyKXtZ3aaeju+yfoXRqVp/Zaai86R2jRiQSucDaRkfzrPsPGGg6neC0s9RjedjhVZWTcfQFgAfwrBm/s+1+Heix65bzXRYReRaxkhpZCPlXHpg9/8ACqHjO51afSbKS+0WHTo4bqPypFuRI6HB4GBwP8KHNpXHUxc4R5lbRJtWb389l87m14m8aQ6Nq1lZQXEO/wC0ot6roxMcRwcj8DnvXQHWNPGlLqTXcaWbLuWZjtBH41z3jf8A5Cvhn/sKR/8AoQq34wl02OGxGo2ct/MbgG1tI2x5knv2wM9/Wndpsv2tSE6rbVla39a/8FlrTfFuh6vdfZtP1BJZj0QqyFvpuAz+FbNee+JptVnuNEuNR0eHTxHqMKRyJciRxn+HgDjjP4V6FTjJvc1w9aVRyjLp5NfgwoooqzrCiiigAooooAKKKKACiiigAooooAKKKKACiiigAooooAKKKKACiiigAooooAKKKKACiiigAooooAKKKKAPL/hR/wAhTUP+uK/+hV6hXl/wo/5Cmof9cV/9Cr1CvQzH/eX8vyPLyr/dI/P8wooorzz1AooooAKKKKACiiigArj/ABE403x/oWp3B22siPbNIeiMQcZPb736GuwqtqGn2mqWb2l/As8L9Vb+YPY+9TJXRhXpupC0d0018tQ1G/h0zTZ725YCKFC556+w9z0rjfFGo/2jovh3Vp4HgsjfxyzRvztXJwT7Yz+dasXgHRllQzm7uoozlIJ7gtGvpxW/dWVte2T2l1Aklu67WjI4x/Sk1KS1MZ061aLUrLT11M3xdNBF4O1Nrgrsa2ZVz3YjC/qRXJ3KSWdt4Fl1A7YomCyF+iEhdmfTGP0roYPAmjQzRtJ9puYoW3RW885eOM+y/wCOa2dT0y01ewez1CESwv1BOCD2IPY0nFvUzqUKta8pWTsrddnfU5r4nOq+DmVmALToFBPXrVXxZFdN8QNEMF+NPMkLpDctEJAr85G08ZIIH4itI/D7RXtzFcm7ueAqNNOWMYznC9h0ra1bR7HW7P7NqUAljzuXnBU+oI5FJxbuyZ4erVcpSSV+W2r6Nvf/ACOcvPDGpXN5p76z4pSYQXSyQxtZJGWcc4BDA5wDXY1haf4P0ywvY7stc3c8P+qa6mMnl/7o6Ct2rirHVh6XJdtWb82/zCvK/hN/yGdR/wCuA/8AQq9Uryv4Tf8AIZ1H/rgP/QqifxxOTFf71Q/7e/JHqlFFFanqBRRRQAUUUUAFcT8Vf+RTg/6/E/8AQHrtq4n4q/8AIpwf9fif+gPUVPgZxY//AHWfobHgn/kStM/65f8AsxrerB8E/wDIlaZ/1y/9mNb1OPwo2w/8GHovyOc17w/qF/r9jqulXkFvNZxug81CwO4EH9CahbwrqOqzxN4n1f7ZbRPvFnBEI42I/vHqa6mijlRLwtOUm3fXdXdvuMbxJ4f/ALcsYEguDaXNrKs1vMq52MOnHp/gKw9U8KeItds1j1TWrfdE4eKOGHCEj+Jj1Jx26V2tFDimFTC06jblfXfVmH4m0GfW7a0ezuFt7yynWeF3Xcu4diPrj8qg1Xw7f6vp2nyzX0cGr2MhlS4ijymSeRg9uB+VdHRQ4plSw9ObbfXf5fqcZfeFfEGr/ZZdU1mAy2s6yxwxRYj47nuT0+nPrXZ0UUKKQ6dGNNtx3fd3CiiiqNgooooAKKKKACiiigAooooAKKKKACiiigAooooAKKKKACiiigAooooAKKKKACiiigAooooAKKKKACiiigDy/wCFH/IU1D/riv8A6FXqFeX/AAo/5Cmof9cV/wDQq9Qr0Mx/3l/L8jy8q/3SPz/MKKKK889QKKKKACiiigAooooAKKKKACiiigAooooAKKKKACiivNPHOn6zoniD/hJdMuJGhJUNgk+TgAYI7qf6/TMylyq5zYmu6EOfluuvku56XXlfwm/5DOo/9cB/6FXbeFfFVr4msN8eIruMfvoM/d9x6iuJ+E3Gsaj/ANcB/wChVnJpyi0cNepGpiMPODunf8keqUV5l4x8ZT6td/2F4ZLyB22SSxdZT/dU/wB31Pf6dey8JaLPoPh6Kzu5zNNku3OQmf4R7D/GrU7uyOulilWquFNXS3fS/Y26KKKs7AooqvqFqb3Tbm1WVoTNE0YkTqmRjIoE7paFiuJ+Kv8AyKcH/X4n/oD1zOk61qngDXH03WVeWydskA5GP+eiH+Y/rXQ/Ey6gvfBNpc2sqywyXSMjqcgjY9YympQZ5FbFRr4WorWklqjd8E/8iVpn/XL/ANmNb1cpoGr2mifDmwvb+TZGkWAB95zk4UDua4+0fWviF4mW5Dva2Vs4IKMQsI9B6ufX+lPnskupqsXGjTp04rmk0tPket0UUVqemFFFFABRRRQAUUUUAFFFFABRRRQAUUUUAFFFFABRRRQAUUUUAFFFFABRRRQAUUUUAFFFFABRRRQAUUUUAFFFFABRRRQAUUUUAFFFFAHl/wAKP+QpqH/XFf8A0KvUKiitLeBi0FvFGxGCUQA4/Cpa6cTWVeq5pWOXCYd4eiqbd7BRRRXMdQUUUUAFFFFABRRRQAUUUUAFFFFABRRRQAUUUUAFNkjSaJo5UV0cFWVhkMD2Ip1FAHlHiXwze+DtUXW/DzOtqrZIHJhz/C3qp/8ArHsTyOl3OohprHSt5kvwImWMfM4znb7D19vavoOSNJY2jlVXRwVZWGQQexFZGj+E9I0K7mudOttssv8AEzbtg/urnoK55UtdDwq2VuVVOlK0eq7d7epQ8G+DYfDlr59xtl1GRfnk6iMf3V/qe9dRRRW6SirI9ilShRgoQVkgooopmoUUUUAZXiHw9Z+I9NNreLtdeYpgPmjb1Ht6jvXjWtW+raBHJoOoE/Z/NE6DqrEAgMp9CDz/APWr3qs3W9BsPEFmLfUot4U7kdThkPsayqU+bVbnmY7ArELmhpL8/JnkugaPqnjOa2tJJWTT7FdhfHyxjqQB3Y/57V7Fpum2uk2EdnYRCKGMYAHUn1J7ml07TrXSrGOzsIVihjHCjv7k9z71Zpwhy+ppg8GsPG8tZPd/p6BRRRWh3hRRRQAUUUUAFFFFABRRRQAUUUUAFFFFABRRRQAUUUUAFFFFABRRRQAUUUUAFFFFABRRRQAUUUUAFFFFABRRRQAUUUUAFFFFABRRRQAUUUUAFFFFABRRRQAUUUUAFFFFABRRRQAUUUUAFFFFABRRRQAUUUUAFFFFABRRRQAUUUUAFFFFABRRRQAUUUUAFFFFABRRRQAUUUUAFFFFABRRRQAUUUUAFFFFABRRRQAUUUUAFFFFABRRRQAUUUUAFFFFABRRRQAUUUUAFFFFABRRRQAUUUUAFFFFABRRRQAUUUUAFFFFABRRRQAUUUUAFFFFABRRRQAUUUUAFFFFABRRRQAUUUUAFFFFABRRRQAUUUUAFFFFABRRRQAUUUUAFFFFABRRRQAUUUUAFFFFABRRRQAUUUUAFFFFABRRRQAUUUUAFFFFABRRRQAUUUUAFFFFABRRRQAUUUUAFFFFABRRRQAUUUUAFFFFABRRRQAUUUUAFFFFABRRRQAUUUUAFFFFABRRRQAUUUUAFFFFABRRRQAUUUUAFFFFABRRRQAUUUUAFFFFABRRRQAUUUUAFFFFABRRRQAUUUUAFFFFABRRRQAUUUUAFFFFABRRRQAUUUUAFFFFABRRRQB//9k=)"
      ],
      "metadata": {
        "id": "Ot7Yx7KxLjOo"
      }
    },
    {
      "cell_type": "markdown",
      "source": [
        "Why use an API instead of a static CSV dataset you can download from the web? \n",
        "APIs are useful in the following cases:\n",
        "\n",
        "1. The data is changing quickly. An example of this is stock price data. It doesn’t really make sense to regenerate a dataset and download it every minute — this will take a lot of bandwidth, and be pretty slow.\n",
        "2. You want a small piece of a much larger set of data. Reddit comments are one example. What if you want to just pull your own comments on Reddit? It doesn’t make much sense to download the entire Reddit database, then filter just your own comments.\n",
        "3. There is repeated computation involved. Spotify has an API that can tell you the genre of a piece of music. You could theoretically create your own classifier, and use it to compute music categories, but you’ll never have as much data as Spotify does."
      ],
      "metadata": {
        "id": "6AejzgRsl2Ej"
      }
    },
    {
      "cell_type": "markdown",
      "source": [
        "#API Status Codes"
      ],
      "metadata": {
        "id": "_HqEXVhVJarH"
      }
    },
    {
      "cell_type": "markdown",
      "source": [
        "\n",
        "*   200: Everything went okay, and the result has been returned (if any).\n",
        "*   301: The server is redirecting you to a different endpoint. This can happen when a company switches domain names, or an endpoint name is changed.\n",
        "*   400: The server thinks you made a bad request. This can happen when you don’t send along the right data, among other things.\n",
        "*   401: The server thinks you’re not authenticated. Many APIs require login ccredentials, so this happens when you don’t send the right credentials to access an API.\n",
        "*   403: The resource you’re trying to access is forbidden: you don’t have the right perlessons to see it.\n",
        "*   404: The resource you tried to access wasn’t found on the server.\n",
        "*   503: The server is not ready to handle the request.\n",
        "\n",
        "\n",
        "\n",
        "\n",
        "\n",
        "\n",
        "\n",
        "\n",
        "\n",
        "\n",
        "\n",
        "\n",
        "\n"
      ],
      "metadata": {
        "id": "h7CaOz_RJjfB"
      }
    },
    {
      "cell_type": "code",
      "execution_count": null,
      "metadata": {
        "id": "0lWL5d1KOV7s"
      },
      "outputs": [],
      "source": [
        "import requests"
      ]
    },
    {
      "cell_type": "code",
      "source": [
        "rs = requests.get(\"http://api.open-notify.org/astros.json\")"
      ],
      "metadata": {
        "id": "wmvZINdCgN4P"
      },
      "execution_count": null,
      "outputs": []
    },
    {
      "cell_type": "code",
      "source": [
        "print(rs.status_code)"
      ],
      "metadata": {
        "colab": {
          "base_uri": "https://localhost:8080/"
        },
        "id": "Pc0j5lBCgO7w",
        "outputId": "435b0332-6db1-4f62-c2d8-2ff4ded95b8a"
      },
      "execution_count": null,
      "outputs": [
        {
          "output_type": "stream",
          "name": "stdout",
          "text": [
            "200\n"
          ]
        }
      ]
    },
    {
      "cell_type": "code",
      "source": [
        "print(rs.json()['people'])"
      ],
      "metadata": {
        "colab": {
          "base_uri": "https://localhost:8080/"
        },
        "id": "FFQ5fMDkgTbi",
        "outputId": "a74b477c-eb02-4e5f-9b75-a7cd78f8b144"
      },
      "execution_count": null,
      "outputs": [
        {
          "output_type": "stream",
          "name": "stdout",
          "text": [
            "[{'craft': 'ISS', 'name': 'Sergey Prokopyev'}, {'craft': 'ISS', 'name': 'Dmitry Petelin'}, {'craft': 'ISS', 'name': 'Frank Rubio'}, {'craft': 'Shenzhou 15', 'name': 'Fei Junlong'}, {'craft': 'Shenzhou 15', 'name': 'Deng Qingming'}, {'craft': 'Shenzhou 15', 'name': 'Zhang Lu'}, {'craft': 'ISS', 'name': 'Stephen Bowen'}, {'craft': 'ISS', 'name': 'Warren Hoburg'}, {'craft': 'ISS', 'name': 'Sultan Alneyadi'}, {'craft': 'ISS', 'name': 'Andrey Fedyaev'}]\n"
          ]
        }
      ]
    },
    {
      "cell_type": "markdown",
      "source": [
        "#CoinMarketCap\n"
      ],
      "metadata": {
        "id": "YAPGJGkvMSZT"
      }
    },
    {
      "cell_type": "markdown",
      "source": [
        "Document:\n",
        "https://coinmarketcap.com/api/documentation/v1/"
      ],
      "metadata": {
        "id": "poMPqK-QMa6E"
      }
    },
    {
      "cell_type": "code",
      "source": [
        "url = 'https://pro-api.coinmarketcap.com/v1/cryptocurrency/map'"
      ],
      "metadata": {
        "id": "S-6Yv_mFKzkT"
      },
      "execution_count": null,
      "outputs": []
    },
    {
      "cell_type": "code",
      "source": [
        "api_key = 'd1b1a69c-a5b3-443d-868e-e0bbcc7f5b0c'"
      ],
      "metadata": {
        "id": "wyVEurFHLsFE"
      },
      "execution_count": null,
      "outputs": []
    },
    {
      "cell_type": "code",
      "source": [
        "headers = {\n",
        "  'Accepts': 'application/json',\n",
        "  'X-CMC_PRO_API_KEY': api_key,\n",
        "}"
      ],
      "metadata": {
        "id": "XADgvaPCLoRL"
      },
      "execution_count": null,
      "outputs": []
    },
    {
      "cell_type": "code",
      "source": [
        "r = requests.get(url, headers=headers)"
      ],
      "metadata": {
        "id": "1fGlSOLLL8Wz"
      },
      "execution_count": null,
      "outputs": []
    },
    {
      "cell_type": "code",
      "source": [
        "r.status_code"
      ],
      "metadata": {
        "colab": {
          "base_uri": "https://localhost:8080/"
        },
        "id": "tpVMZFR7MIoM",
        "outputId": "1d281988-d8ca-4280-a216-3a47bc812df4"
      },
      "execution_count": null,
      "outputs": [
        {
          "output_type": "execute_result",
          "data": {
            "text/plain": [
              "200"
            ]
          },
          "metadata": {},
          "execution_count": 9
        }
      ]
    },
    {
      "cell_type": "code",
      "source": [
        "print(r.json())"
      ],
      "metadata": {
        "colab": {
          "base_uri": "https://localhost:8080/"
        },
        "id": "4m7vJGVeMsUq",
        "outputId": "6489d151-90e2-480b-974e-02660275b21e"
      },
      "execution_count": null,
      "outputs": [
        {
          "output_type": "stream",
          "name": "stderr",
          "text": [
            "IOPub data rate exceeded.\n",
            "The notebook server will temporarily stop sending output\n",
            "to the client in order to avoid crashing it.\n",
            "To change this limit, set the config variable\n",
            "`--NotebookApp.iopub_data_rate_limit`.\n",
            "\n",
            "Current values:\n",
            "NotebookApp.iopub_data_rate_limit=1000000.0 (bytes/sec)\n",
            "NotebookApp.rate_limit_window=3.0 (secs)\n",
            "\n"
          ]
        }
      ]
    },
    {
      "cell_type": "code",
      "source": [
        "print(r.json()['data'][0])"
      ],
      "metadata": {
        "colab": {
          "base_uri": "https://localhost:8080/"
        },
        "id": "rkGU1j41NF7V",
        "outputId": "204b1ca8-3b4f-4b90-e8ea-79da3313b371"
      },
      "execution_count": null,
      "outputs": [
        {
          "output_type": "stream",
          "name": "stdout",
          "text": [
            "{'id': 1, 'rank': 1, 'name': 'Bitcoin', 'symbol': 'BTC', 'slug': 'bitcoin', 'is_active': 1, 'first_historical_data': '2013-04-28T18:47:21.000Z', 'last_historical_data': '2023-03-24T07:19:00.000Z', 'platform': None}\n"
          ]
        }
      ]
    },
    {
      "cell_type": "markdown",
      "source": [
        "#Class Object"
      ],
      "metadata": {
        "id": "jmPIbaoWPWke"
      }
    },
    {
      "cell_type": "code",
      "source": [
        "from requests import session"
      ],
      "metadata": {
        "id": "dfut-MlIPZbC"
      },
      "execution_count": null,
      "outputs": []
    },
    {
      "cell_type": "code",
      "source": [
        "class CMC:\n",
        "  def __init__(self,token):\n",
        "    self.token = token\n",
        "    self.apiurl = 'https://pro-api.coinmarketcap.com/v1/cryptocurrency/map'\n",
        "    self.headers = {'Accepts': 'application/json','X-CMC_PRO_API_KEY': self.token,}\n",
        "    self.session = session()\n",
        "    self.session.headers.update(self.headers)\n",
        "\n",
        "#Step1\n",
        "\n",
        "  def getAllCoin(self):\n",
        "    r = self.session.get(self.apiurl)\n",
        "    data = r.json()['data'][:3]\n",
        "    return data\n",
        "\n",
        "#Step3\n",
        "\n",
        "  def getPrice(self, symbol):\n",
        "        url = 'https://pro-api.coinmarketcap.com/v1/cryptocurrency/quotes/latest'\n",
        "        parameters = {'symbol': symbol}\n",
        "        r = self.session.get(url, params=parameters)\n",
        "        data = r.json()\n",
        "        return data\n"
      ],
      "metadata": {
        "id": "SWuIcsVdPbIq"
      },
      "execution_count": null,
      "outputs": []
    },
    {
      "cell_type": "code",
      "source": [
        "cmc = CMC(api_key)"
      ],
      "metadata": {
        "id": "7Q94P4m-RxTp"
      },
      "execution_count": null,
      "outputs": []
    },
    {
      "cell_type": "code",
      "source": [
        "cmc.getAllCoin()"
      ],
      "metadata": {
        "colab": {
          "base_uri": "https://localhost:8080/"
        },
        "id": "7r4XMYzqS3cJ",
        "outputId": "b23e7344-caf1-4fe8-df2b-d97dc70e087e"
      },
      "execution_count": null,
      "outputs": [
        {
          "output_type": "execute_result",
          "data": {
            "text/plain": [
              "[{'id': 1,\n",
              "  'rank': 1,\n",
              "  'name': 'Bitcoin',\n",
              "  'symbol': 'BTC',\n",
              "  'slug': 'bitcoin',\n",
              "  'is_active': 1,\n",
              "  'first_historical_data': '2013-04-28T18:47:21.000Z',\n",
              "  'last_historical_data': '2023-03-24T07:19:00.000Z',\n",
              "  'platform': None},\n",
              " {'id': 2,\n",
              "  'rank': 13,\n",
              "  'name': 'Litecoin',\n",
              "  'symbol': 'LTC',\n",
              "  'slug': 'litecoin',\n",
              "  'is_active': 1,\n",
              "  'first_historical_data': '2013-04-28T18:47:22.000Z',\n",
              "  'last_historical_data': '2023-03-24T07:19:00.000Z',\n",
              "  'platform': None},\n",
              " {'id': 3,\n",
              "  'rank': 638,\n",
              "  'name': 'Namecoin',\n",
              "  'symbol': 'NMC',\n",
              "  'slug': 'namecoin',\n",
              "  'is_active': 1,\n",
              "  'first_historical_data': '2013-04-28T18:47:22.000Z',\n",
              "  'last_historical_data': '2023-03-24T07:19:00.000Z',\n",
              "  'platform': None}]"
            ]
          },
          "metadata": {},
          "execution_count": 15
        }
      ]
    },
    {
      "cell_type": "code",
      "source": [
        "data = cmc.getPrice('FTM')\n",
        "# 'status' :{'timestamp'}\n",
        "# 'data' : {'symbol',}"
      ],
      "metadata": {
        "id": "0Ki55XOqdn3i"
      },
      "execution_count": null,
      "outputs": []
    },
    {
      "cell_type": "code",
      "source": [
        "data"
      ],
      "metadata": {
        "colab": {
          "base_uri": "https://localhost:8080/"
        },
        "id": "ukCGStt4g-ay",
        "outputId": "3a536051-8b35-4dec-a982-dada2101c2d0"
      },
      "execution_count": null,
      "outputs": [
        {
          "output_type": "execute_result",
          "data": {
            "text/plain": [
              "{'status': {'timestamp': '2023-03-24T07:27:21.726Z',\n",
              "  'error_code': 0,\n",
              "  'error_message': None,\n",
              "  'elapsed': 38,\n",
              "  'credit_count': 1,\n",
              "  'notice': None},\n",
              " 'data': {'FTM': {'id': 3513,\n",
              "   'name': 'Fantom',\n",
              "   'symbol': 'FTM',\n",
              "   'slug': 'fantom',\n",
              "   'num_market_pairs': 434,\n",
              "   'date_added': '2018-10-29T00:00:00.000Z',\n",
              "   'tags': ['platform',\n",
              "    'enterprise-solutions',\n",
              "    'defi',\n",
              "    'research',\n",
              "    'scaling',\n",
              "    'smart-contracts',\n",
              "    'fantom-ecosystem',\n",
              "    'injective-ecosystem'],\n",
              "   'max_supply': 3175000000,\n",
              "   'circulating_supply': 2782990683.965433,\n",
              "   'total_supply': 3175000000,\n",
              "   'is_active': 1,\n",
              "   'platform': None,\n",
              "   'cmc_rank': 43,\n",
              "   'is_fiat': 0,\n",
              "   'self_reported_circulating_supply': None,\n",
              "   'self_reported_market_cap': None,\n",
              "   'tvl_ratio': None,\n",
              "   'last_updated': '2023-03-24T07:25:00.000Z',\n",
              "   'quote': {'USD': {'price': 0.48291012943666783,\n",
              "     'volume_24h': 335487150.5913299,\n",
              "     'volume_change_24h': -33.0268,\n",
              "     'percent_change_1h': 0.52957384,\n",
              "     'percent_change_24h': -0.51298946,\n",
              "     'percent_change_7d': 7.93532326,\n",
              "     'percent_change_30d': -1.66743854,\n",
              "     'percent_change_60d': 28.29877684,\n",
              "     'percent_change_90d': 136.78317137,\n",
              "     'market_cap': 1343934391.414788,\n",
              "     'market_cap_dominance': 0.1136,\n",
              "     'fully_diluted_market_cap': 1533239660.96,\n",
              "     'tvl': None,\n",
              "     'last_updated': '2023-03-24T07:25:00.000Z'}}}}}"
            ]
          },
          "metadata": {},
          "execution_count": 17
        }
      ]
    },
    {
      "cell_type": "code",
      "source": [
        "timestamp = data['status']['timestamp']"
      ],
      "metadata": {
        "colab": {
          "base_uri": "https://localhost:8080/",
          "height": 35
        },
        "id": "04azf5YphC6B",
        "outputId": "3cb9792d-44e0-4226-c957-3e46141d611f"
      },
      "execution_count": null,
      "outputs": [
        {
          "output_type": "execute_result",
          "data": {
            "text/plain": [
              "'2023-03-24T07:27:21.726Z'"
            ],
            "application/vnd.google.colaboratory.intrinsic+json": {
              "type": "string"
            }
          },
          "metadata": {},
          "execution_count": 19
        }
      ]
    },
    {
      "cell_type": "code",
      "source": [
        "symbol = 'FTM'"
      ],
      "metadata": {
        "id": "zc5OPPjHmFWT"
      },
      "execution_count": null,
      "outputs": []
    },
    {
      "cell_type": "code",
      "source": [
        "price = data['data'][symbol]['quote']['USD']['price']"
      ],
      "metadata": {
        "id": "hI6l9KLZhYew"
      },
      "execution_count": null,
      "outputs": []
    },
    {
      "cell_type": "code",
      "source": [
        "print(price)"
      ],
      "metadata": {
        "colab": {
          "base_uri": "https://localhost:8080/"
        },
        "id": "-7BcvKBsiVSy",
        "outputId": "a98db058-198f-4ad0-ce1b-0ad1b70076e6"
      },
      "execution_count": null,
      "outputs": [
        {
          "output_type": "stream",
          "name": "stdout",
          "text": [
            "0.48291012943666783\n"
          ]
        }
      ]
    },
    {
      "cell_type": "code",
      "source": [
        "hurl = 'https://pro-api.coinmarketcap.com/v2/cryptocurrency/quotes/historical'"
      ],
      "metadata": {
        "id": "nism9zajkB2g"
      },
      "execution_count": null,
      "outputs": []
    },
    {
      "cell_type": "code",
      "source": [
        "hheaders = {\n",
        "  'Accepts': 'application/json',\n",
        "  'X-CMC_PRO_API_KEY': api_key,\n",
        "  'time_start' : '2023-01-01T23:59:00.000Z' ,\n",
        "  'interval' : 'monthly',\n",
        "  }"
      ],
      "metadata": {
        "id": "Ypae5OrvkOGh"
      },
      "execution_count": null,
      "outputs": []
    },
    {
      "cell_type": "code",
      "source": [
        "rsp = requests.get(hurl,headers=hheaders)"
      ],
      "metadata": {
        "id": "BocmFru7lANq"
      },
      "execution_count": null,
      "outputs": []
    },
    {
      "cell_type": "code",
      "source": [
        "rsp.status_code"
      ],
      "metadata": {
        "colab": {
          "base_uri": "https://localhost:8080/"
        },
        "id": "ceWZX8aJlJeZ",
        "outputId": "7d9cd8f0-d3e2-451d-d142-0c4d8400b915"
      },
      "execution_count": null,
      "outputs": [
        {
          "output_type": "execute_result",
          "data": {
            "text/plain": [
              "403"
            ]
          },
          "metadata": {},
          "execution_count": 35
        }
      ]
    }
  ]
}